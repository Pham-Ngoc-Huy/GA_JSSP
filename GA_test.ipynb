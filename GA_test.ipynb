{
 "cells": [
  {
   "cell_type": "code",
   "execution_count": 70,
   "id": "baa8586f",
   "metadata": {},
   "outputs": [],
   "source": [
    "import pandas as pd\n",
    "import numpy as np\n",
    "from numpy import random\n",
    "import random"
   ]
  },
  {
   "cell_type": "markdown",
   "id": "3820e023",
   "metadata": {},
   "source": [
    "### GA Parameter"
   ]
  },
  {
   "cell_type": "code",
   "execution_count": 71,
   "id": "3d7a7b5f",
   "metadata": {},
   "outputs": [],
   "source": [
    "n_population = 10\n",
    "interation = 100\n",
    "n_elitism = 2"
   ]
  },
  {
   "cell_type": "markdown",
   "id": "1e77167d",
   "metadata": {},
   "source": [
    "### INITIALIZATION\n"
   ]
  },
  {
   "cell_type": "markdown",
   "id": "5f6885b9",
   "metadata": {},
   "source": [
    "#### Parameter"
   ]
  },
  {
   "cell_type": "code",
   "execution_count": 72,
   "id": "53d261be",
   "metadata": {},
   "outputs": [],
   "source": [
    "# number of part\n",
    "n = 4\n",
    "# number of machines\n",
    "m = 3\n",
    "# range for part n\n",
    "P = np.arange(1, n + 1)\n",
    "# range for machine m\n",
    "M = np.arange(1, m + 1)\n",
    "#number of operations for each part\n",
    "Q = np.array([2, 3, 2, 3])\n",
    "# max of operations\n",
    "MaxOps = np.max(Q)\n",
    "# range for operations\n",
    "O = np.arange(1, MaxOps + 1)\n",
    "# Processing time of operation 𝑗 of part 𝑝 on machine 𝑘\n",
    "Tp = np.random.randint(1, 10, size=(n, MaxOps, m))"
   ]
  },
  {
   "cell_type": "code",
   "execution_count": 85,
   "id": "737d5897",
   "metadata": {},
   "outputs": [
    {
     "data": {
      "text/plain": [
       "array([[[1, 2, 8],\n",
       "        [4, 8, 7],\n",
       "        [6, 5, 6]],\n",
       "\n",
       "       [[1, 3, 5],\n",
       "        [7, 1, 2],\n",
       "        [3, 7, 4]],\n",
       "\n",
       "       [[5, 3, 8],\n",
       "        [3, 5, 7],\n",
       "        [3, 3, 2]],\n",
       "\n",
       "       [[3, 4, 2],\n",
       "        [6, 7, 2],\n",
       "        [7, 8, 4]]])"
      ]
     },
     "execution_count": 85,
     "metadata": {},
     "output_type": "execute_result"
    }
   ],
   "source": [
    "Tp"
   ]
  },
  {
   "cell_type": "markdown",
   "id": "9db7bb39",
   "metadata": {},
   "source": [
    "### Variable"
   ]
  },
  {
   "cell_type": "markdown",
   "id": "13c91e08",
   "metadata": {},
   "source": [
    "##### Time Variable JSSP"
   ]
  },
  {
   "cell_type": "code",
   "execution_count": 73,
   "id": "b65fd009",
   "metadata": {},
   "outputs": [],
   "source": [
    "# time variable\n",
    "starting_time_of_operation = np.zeros((n, MaxOps, m))\n",
    "completion_time_of_operation = np.zeros((n, MaxOps, m))\n",
    "completion_time_of_processing = np.zeros((n, MaxOps, m))"
   ]
  },
  {
   "cell_type": "markdown",
   "id": "a2f51856",
   "metadata": {},
   "source": [
    "#### Assembly Variable "
   ]
  },
  {
   "cell_type": "code",
   "execution_count": 74,
   "id": "4c797569",
   "metadata": {},
   "outputs": [],
   "source": [
    "# assembly variable\n",
    "# part_in_position = np.zeros()\n",
    "starting_time_of_part = np.zeros((n, m))\n",
    "completion_time_of_part =   np.zeros((n, m))\n",
    "inventory_time_of_part = np.zeros((n, m))"
   ]
  },
  {
   "cell_type": "markdown",
   "id": "05e26a0a",
   "metadata": {},
   "source": [
    "## SOLUTION PRESENTATION\n"
   ]
  },
  {
   "cell_type": "markdown",
   "id": "4fe359e3",
   "metadata": {},
   "source": [
    "### Machine INIT\n"
   ]
  },
  {
   "cell_type": "code",
   "execution_count": 75,
   "id": "eeaa3153",
   "metadata": {},
   "outputs": [],
   "source": [
    "machine_init = np.random.permutation(np.arange(1, ((MaxOps*m)+1)))"
   ]
  },
  {
   "cell_type": "markdown",
   "id": "9e6edc28",
   "metadata": {},
   "source": [
    "### Part INIT\n"
   ]
  },
  {
   "cell_type": "code",
   "execution_count": 76,
   "id": "6d24a9cc",
   "metadata": {},
   "outputs": [],
   "source": [
    "part_init = np.random.permutation(np.arange(1, n+1))"
   ]
  },
  {
   "cell_type": "markdown",
   "id": "58a96df9",
   "metadata": {},
   "source": [
    "### Assembly INIT\n"
   ]
  },
  {
   "cell_type": "code",
   "execution_count": 77,
   "id": "28f3853d",
   "metadata": {},
   "outputs": [],
   "source": [
    "assembly_init = np.random.permutation(np.arange(1, m+1))"
   ]
  },
  {
   "cell_type": "markdown",
   "id": "1c5ffc2f",
   "metadata": {},
   "source": [
    "### Full Array "
   ]
  },
  {
   "cell_type": "code",
   "execution_count": 78,
   "id": "11022f98",
   "metadata": {},
   "outputs": [],
   "source": [
    "init = np.concatenate((machine_init, part_init, assembly_init), axis=0)"
   ]
  },
  {
   "cell_type": "markdown",
   "id": "6c5ea3f7",
   "metadata": {},
   "source": [
    "### Create pop"
   ]
  },
  {
   "cell_type": "code",
   "execution_count": 79,
   "id": "635d09f7",
   "metadata": {},
   "outputs": [],
   "source": [
    "pop = []\n",
    "\n",
    "for i in range(1, n_population + 1):\n",
    "    machine_init = np.random.permutation(np.arange(1, (MaxOps * m) + 1))\n",
    "    part_init = np.random.permutation(np.arange(1, n + 1))\n",
    "    assembly_init = np.random.permutation(np.arange(1, n + 1))\n",
    "    init = np.concatenate((machine_init, part_init, assembly_init), axis=0)\n",
    "    \n",
    "    pop.append(init)\n"
   ]
  },
  {
   "cell_type": "code",
   "execution_count": 80,
   "id": "2ab45034",
   "metadata": {},
   "outputs": [
    {
     "data": {
      "text/plain": [
       "[array([9, 6, 1, 2, 5, 7, 4, 8, 3, 3, 2, 1, 4, 4, 3, 1, 2]),\n",
       " array([2, 6, 3, 5, 1, 9, 4, 7, 8, 2, 4, 1, 3, 4, 1, 3, 2]),\n",
       " array([6, 8, 1, 5, 2, 3, 7, 9, 4, 1, 4, 2, 3, 2, 4, 1, 3]),\n",
       " array([4, 8, 2, 9, 7, 3, 5, 6, 1, 2, 3, 1, 4, 2, 4, 3, 1]),\n",
       " array([5, 6, 1, 2, 8, 7, 9, 4, 3, 4, 2, 3, 1, 3, 2, 4, 1]),\n",
       " array([5, 2, 9, 7, 6, 4, 3, 1, 8, 2, 1, 4, 3, 1, 3, 4, 2]),\n",
       " array([8, 4, 5, 9, 2, 7, 6, 3, 1, 3, 2, 4, 1, 1, 2, 3, 4]),\n",
       " array([6, 9, 2, 7, 1, 3, 4, 5, 8, 1, 3, 2, 4, 3, 4, 1, 2]),\n",
       " array([2, 3, 5, 6, 4, 7, 1, 8, 9, 4, 2, 1, 3, 1, 2, 3, 4]),\n",
       " array([2, 6, 3, 8, 9, 4, 5, 1, 7, 1, 3, 4, 2, 3, 2, 1, 4])]"
      ]
     },
     "execution_count": 80,
     "metadata": {},
     "output_type": "execute_result"
    }
   ],
   "source": [
    "pop"
   ]
  },
  {
   "cell_type": "markdown",
   "id": "21eb7d0c",
   "metadata": {},
   "source": [
    "### Decode to calcuation"
   ]
  },
  {
   "cell_type": "code",
   "execution_count": 84,
   "id": "0925a84e",
   "metadata": {},
   "outputs": [
    {
     "name": "stdout",
     "output_type": "stream",
     "text": [
      "[[2 6 3]\n",
      " [8 9 4]\n",
      " [5 1 7]]\n",
      "[1 3 4 2]\n",
      "[3 2 1 4]\n"
     ]
    }
   ],
   "source": [
    "def decode_schedule(individual):\n",
    "    machine_schedule = individual[:MaxOps * m].reshape((m, MaxOps))\n",
    "    part_schedule = individual[MaxOps * m:MaxOps * m + n]\n",
    "    assembly_schedule = individual[MaxOps * m + n:]\n",
    "    \n",
    "    return machine_schedule, part_schedule, assembly_schedule\n",
    "for individual in pop:\n",
    "    machine_schedule, part_schedule, assembly_schedule = decode_schedule(individual)\n",
    "    \n",
    "    # print(\"Machine Schedule:\\n\", machine_schedule)\n",
    "    # print(\"Part Schedule:\\n\", part_schedule)\n",
    "    # print(\"Assembly Schedule:\\n\", assembly_schedule)\n",
    "print(machine_schedule)\n",
    "print(part_schedule)\n",
    "print(assembly_schedule)"
   ]
  },
  {
   "cell_type": "markdown",
   "id": "e3a3a81d",
   "metadata": {},
   "source": [
    "### Fitness function"
   ]
  },
  {
   "cell_type": "code",
   "execution_count": 54,
   "id": "5e89deeb",
   "metadata": {},
   "outputs": [],
   "source": [
    "def decode_schedule(individual, PT, Q, M):\n",
    "    n = len(Q)\n",
    "    MaxOps = max(Q)\n",
    "    \n",
    "    # Start and end times of operations (mocked for now)\n",
    "    Sp = np.random.randint(0, 20, size=(n, MaxOps))  # Start times\n",
    "    Ep = Sp + np.random.randint(1, 10, size=(n, MaxOps))  # End times\n",
    "\n",
    "    # Assembly start and end times\n",
    "    Sa = np.max(Ep, axis=1) + np.random.randint(1, 5, size=n)\n",
    "    Ea = Sa + np.random.randint(5, 10, size=n)\n",
    "\n",
    "    return Sp, Ep, Sa, Ea\n",
    "\n",
    "def fitness_function(individual, PT, Q, Ta, nd, td, no, to, nt, tt, M=1000):\n",
    "    n = len(Q)       # number of parts\n",
    "    MaxOps = max(Q)\n",
    "    m = PT.shape[2]  # number of machines\n",
    "    \n",
    "    # Decode individual into scheduling\n",
    "    # You need to write: decode_schedule(individual) → gives Sp, Ep, Sa, Ea, etc.\n",
    "    Sp, Ep, Sa, Ea = decode_schedule(individual, PT, Q, M)\n",
    "    \n",
    "    E_part = np.max(Ep, axis=1)  # shape (n,)\n",
    "    inventory_time = Sa - E_part\n",
    "    total_inventory_time = np.sum(inventory_time)\n",
    "    \n",
    "    penalty_time = nd * td + no * to + nt * tt\n",
    "    total_penalty_time = np.sum(penalty_time)\n",
    "    \n",
    "    makespan = np.max(Ea)\n",
    "    \n",
    "    alpha = 1.0  # weight for inventory\n",
    "    beta = 1.0   # weight for penalties\n",
    "    \n",
    "    fitness = makespan + alpha * total_inventory_time + beta * total_penalty_time\n",
    "    return fitness\n"
   ]
  },
  {
   "cell_type": "code",
   "execution_count": 83,
   "id": "b24bdb99",
   "metadata": {},
   "outputs": [
    {
     "data": {
      "text/plain": [
       "array([[[1, 2, 8],\n",
       "        [4, 8, 7],\n",
       "        [6, 5, 6]],\n",
       "\n",
       "       [[1, 3, 5],\n",
       "        [7, 1, 2],\n",
       "        [3, 7, 4]],\n",
       "\n",
       "       [[5, 3, 8],\n",
       "        [3, 5, 7],\n",
       "        [3, 3, 2]],\n",
       "\n",
       "       [[3, 4, 2],\n",
       "        [6, 7, 2],\n",
       "        [7, 8, 4]]])"
      ]
     },
     "execution_count": 83,
     "metadata": {},
     "output_type": "execute_result"
    }
   ],
   "source": [
    "Tp"
   ]
  },
  {
   "cell_type": "code",
   "execution_count": 55,
   "id": "e94002dd",
   "metadata": {},
   "outputs": [
    {
     "name": "stdout",
     "output_type": "stream",
     "text": [
      "Fitness value: 56.0\n"
     ]
    }
   ],
   "source": [
    "fitness = fitness_function(individual, PT, Q, Ta, nd, td, no, to, nt, tt)\n",
    "print(f\"Fitness value: {fitness}\")\n"
   ]
  },
  {
   "cell_type": "code",
   "execution_count": null,
   "id": "9e8cc6a0",
   "metadata": {},
   "outputs": [],
   "source": []
  }
 ],
 "metadata": {
  "kernelspec": {
   "display_name": ".venv",
   "language": "python",
   "name": "python3"
  },
  "language_info": {
   "codemirror_mode": {
    "name": "ipython",
    "version": 3
   },
   "file_extension": ".py",
   "mimetype": "text/x-python",
   "name": "python",
   "nbconvert_exporter": "python",
   "pygments_lexer": "ipython3",
   "version": "3.12.3"
  }
 },
 "nbformat": 4,
 "nbformat_minor": 5
}
