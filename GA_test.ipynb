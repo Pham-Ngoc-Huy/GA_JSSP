{
 "cells": [
  {
   "cell_type": "code",
   "execution_count": 4,
   "id": "baa8586f",
   "metadata": {},
   "outputs": [],
   "source": [
    "import pandas as pd\n",
    "import numpy as np\n",
    "from numpy import random\n",
    "import random"
   ]
  },
  {
   "cell_type": "markdown",
   "id": "3820e023",
   "metadata": {},
   "source": [
    "### GA Parameter"
   ]
  },
  {
   "cell_type": "code",
   "execution_count": 5,
   "id": "3d7a7b5f",
   "metadata": {},
   "outputs": [],
   "source": [
    "n_population = 10\n",
    "interation = 100\n",
    "n_elitism = 2"
   ]
  },
  {
   "cell_type": "markdown",
   "id": "1e77167d",
   "metadata": {},
   "source": [
    "### INITIALIZATION\n"
   ]
  },
  {
   "cell_type": "markdown",
   "id": "5f6885b9",
   "metadata": {},
   "source": [
    "#### Parameter"
   ]
  },
  {
   "cell_type": "code",
   "execution_count": 21,
   "id": "53d261be",
   "metadata": {},
   "outputs": [],
   "source": [
    "# number of part\n",
    "n = 3\n",
    "# number of assembly tasks\n",
    "a = 3\n",
    "m = 5\n",
    "#number of operations for each part\n",
    "Q = [3,2,3]\n",
    "total_ops = sum(Q)\n",
    "# max of operations\n",
    "MaxOps = np.max(Q)\n",
    "# range for operations\n",
    "O = np.arange(1, MaxOps + 1)\n",
    "# Processing time of operation 𝑗 of part 𝑝 on machine 𝑘\n",
    "# Tp = np.random.randint(1, 10, size=(n, MaxOps, m))"
   ]
  },
  {
   "cell_type": "code",
   "execution_count": 22,
   "id": "6e331b7e",
   "metadata": {},
   "outputs": [],
   "source": [
    "machine_seq = [random.randint(1, m) for _ in range(total_ops)]"
   ]
  },
  {
   "cell_type": "code",
   "execution_count": 23,
   "id": "1f91317c",
   "metadata": {},
   "outputs": [
    {
     "data": {
      "text/plain": [
       "[5, 4, 3, 2, 1, 4, 4, 2]"
      ]
     },
     "execution_count": 23,
     "metadata": {},
     "output_type": "execute_result"
    }
   ],
   "source": [
    "machine_seq"
   ]
  },
  {
   "cell_type": "code",
   "execution_count": 19,
   "id": "fa377bcc",
   "metadata": {},
   "outputs": [],
   "source": [
    "assembly_seq = random.sample(range(1, a + 1), a)"
   ]
  },
  {
   "cell_type": "code",
   "execution_count": 34,
   "id": "5ef27be5",
   "metadata": {},
   "outputs": [
    {
     "name": "stdout",
     "output_type": "stream",
     "text": [
      "Part sequence: [2, 1, 3]\n",
      "3\n",
      "2\n",
      "0\n",
      "1\n",
      "2\n",
      "3\n",
      "2\n",
      "0\n",
      "1\n"
     ]
    }
   ],
   "source": [
    "# Problem parameters\n",
    "num_parts = 4\n",
    "max_ops = 3\n",
    "max_machines = 5\n",
    "Qp = [3, 3, 3, 3]  # number of operations per part\n",
    "num_assemblies = 4\n",
    "\n",
    "# Machine assignment matrix (valid m       achines for part p and op o), 0 = invalid\n",
    "machine_matrix = [\n",
    "    [1, 2, 3],\n",
    "    [3, 2, 0],\n",
    "    [2, 0, 1],\n",
    "    [1, 2, 3]\n",
    "]\n",
    "part_seq = random.sample(range(1, n + 1), n)\n",
    "print(\"Part sequence:\", part_seq)\n",
    "machine_seq = []\n",
    "for p in part_seq:\n",
    "    for o in range(Qp[p-1]):\n",
    "        valid_machine = machine_matrix[p-1][o]\n",
    "        machine_seq.append(valid_machine)\n",
    "        print(valid_machine)"
   ]
  },
  {
   "cell_type": "code",
   "execution_count": null,
   "id": "a55ac7f8",
   "metadata": {},
   "outputs": [
    {
     "name": "stdout",
     "output_type": "stream",
     "text": [
      "Feasible chromosome found:\n",
      "Part sequence: [2, 1, 3, 4]\n",
      "Machine sequence: [3, 2, 1, 1, 2, 3, 2, 3, 1, 1, 2, 3]\n",
      "Assembly sequence: [2, 1, 4, 3]\n",
      "Decoded: [(2, 1, 3), (2, 2, 2), (2, 3, 1), (1, 1, 1), (1, 2, 2), (1, 3, 3), (3, 1, 2), (3, 2, 3), (3, 3, 1), (4, 1, 1), (4, 2, 2), (4, 3, 3)]\n"
     ]
    }
   ],
   "source": [
    "import random\n",
    "\n",
    "# Problem parameters\n",
    "num_parts = 4\n",
    "max_ops = 3\n",
    "max_machines = 5\n",
    "Qp = [3, 3, 3, 3]  # number of operations per part\n",
    "num_assemblies = 4\n",
    "\n",
    "# Machine assignment matrix (valid m       achines for part p and op o), 0 = invalid\n",
    "machine_matrix = [\n",
    "    [1, 2, 3],\n",
    "    [3, 2, 1],\n",
    "    [2, 3, 1],\n",
    "    [1, 2, 3]\n",
    "]\n",
    "\n",
    "# Assembly dependencies: each assembly needs all parts\n",
    "depends_on = [\n",
    "    [1, 1, 1, 1],\n",
    "    [1, 1, 1, 1],\n",
    "    [1, 1, 1, 1],\n",
    "    [1, 1, 1, 1],\n",
    "]\n",
    "\n",
    "\n",
    "def generate_feasible_chromosome():\n",
    "    part_seq = random.sample(range(1, num_parts + 1), num_parts)\n",
    "    machine_seq = []\n",
    "    for p in part_seq:\n",
    "        for o in range(Qp[p-1]):\n",
    "            valid_machine = machine_matrix[p-1][o]\n",
    "            machine_seq.append(valid_machine)\n",
    "    assembly_seq = random.sample(range(1, num_assemblies + 1), num_assemblies)\n",
    "    return {\n",
    "        \"part_seq\": part_seq,\n",
    "        \"machine_seq\": machine_seq,\n",
    "        \"assembly_seq\": assembly_seq\n",
    "    }\n",
    "\n",
    "\n",
    "def decode_chromosome(chromosome):\n",
    "    \"\"\"\n",
    "    Decodes a chromosome into a schedule: maps each part operation to a machine.\n",
    "    Returns a list of tuples: (part, operation_index, assigned_machine)\n",
    "    \"\"\"\n",
    "    part_seq = chromosome[\"part_seq\"]\n",
    "    machine_seq = chromosome[\"machine_seq\"]\n",
    "\n",
    "    schedule = []\n",
    "    op_counter = {p: 0 for p in part_seq}  # track which op we're on for each part\n",
    "    machine_index = 0\n",
    "\n",
    "    for p in part_seq:\n",
    "        for o in range(1, Qp[p - 1] + 1):\n",
    "            if machine_index >= len(machine_seq):\n",
    "                return None  # malformed chromosome\n",
    "            assigned_machine = machine_seq[machine_index]\n",
    "            schedule.append((p, o, assigned_machine))\n",
    "            machine_index += 1\n",
    "\n",
    "    return schedule\n",
    "\n",
    "\n",
    "def check_feasibility(schedule):\n",
    "    \"\"\"\n",
    "    Checks if the schedule is feasible given machine_matrix constraints.\n",
    "    Ensures every (part, op) is assigned a valid machine.\n",
    "    \"\"\"\n",
    "    for (p, o, m) in schedule:\n",
    "        valid_machine = machine_matrix[p - 1][o - 1]\n",
    "        if m != valid_machine:\n",
    "            return False\n",
    "    return True\n",
    "\n",
    "\n",
    "feasible = False\n",
    "\n",
    "while not feasible:\n",
    "    chrom = generate_feasible_chromosome()\n",
    "    decoded = decode_chromosome(chrom)\n",
    "    # if decoded is None:\n",
    "    #     continue  # skip malformed chromosomes\n",
    "    feasible = check_feasibility(decoded)\n",
    "    if feasible:\n",
    "        break\n",
    "\n",
    "# After loop ends, 'chrom' is feasible\n",
    "print(\"Feasible chromosome found:\")\n",
    "print(\"Part sequence:\", chrom[\"part_seq\"])\n",
    "print(\"Machine sequence:\", chrom[\"machine_seq\"])\n",
    "print(\"Assembly sequence:\", chrom[\"assembly_seq\"])\n",
    "print(\"Decoded:\", decoded)"
   ]
  },
  {
   "cell_type": "code",
   "execution_count": null,
   "id": "59993d5e",
   "metadata": {},
   "outputs": [
    {
     "name": "stdout",
     "output_type": "stream",
     "text": [
      "Generation 0: Best makespan = 5.00\n",
      "Generation 10: Best makespan = 5.00\n",
      "Generation 20: Best makespan = 5.00\n",
      "Generation 30: Best makespan = 5.00\n",
      "Generation 40: Best makespan = 5.00\n",
      "Generation 50: Best makespan = 5.00\n",
      "Generation 60: Best makespan = 5.00\n",
      "Generation 70: Best makespan = 5.00\n",
      "Generation 80: Best makespan = 5.00\n",
      "Generation 90: Best makespan = 5.00\n",
      "\n",
      "Best solution:\n",
      "[(1, 3), (3, 2), (1, 1), (3, 1), (2, 2), (1, 2), (3, 3), (2, 1)]\n",
      "Makespan: 5.00, Inventory Time: 0.00, Assembly Start: 0.00\n"
     ]
    }
   ],
   "source": [
    "import random\n",
    "import copy\n",
    "\n",
    "Qp = [3, 2, 3]  # Number of operations per part\n",
    "n_parts = len(Qp)\n",
    "MaxOps = max(Qp)\n",
    "a = 1  # One assembly\n",
    "dependsOn = [[1, 1, 1]]\n",
    "asmTime = [5.0]\n",
    "\n",
    "machine = [\n",
    "    [1, 2, 3],\n",
    "    [3, 2, 0],\n",
    "    [3, 1, 2]\n",
    "]\n",
    "\n",
    "procTime = [\n",
    "    [3.0, 2.0, 2.0],\n",
    "    [2.0, 4.0, 0.0],\n",
    "    [4.0, 3.0, 2.0]\n",
    "]\n",
    "\n",
    "def generate_random_chromosome(Qp):\n",
    "    operations = {p+1: [(p+1, o+1) for o in range(Qp[p])] for p in range(len(Qp))}\n",
    "    ready_ops = [ops.pop(0) for ops in operations.values()]\n",
    "    chromosome = []\n",
    "\n",
    "    while ready_ops:\n",
    "        op = random.choice(ready_ops)\n",
    "        chromosome.append(op)\n",
    "        part = op[0]\n",
    "        if operations[part]:\n",
    "            ready_ops.append(operations[part].pop(0))\n",
    "        ready_ops.remove(op)\n",
    "\n",
    "    return chromosome\n",
    "\n",
    "def generate_initial_population(pop_size, Qp):\n",
    "    return [generate_random_chromosome(Qp) for _ in range(pop_size)]\n",
    "\n",
    "# --- Decoder: Builds a schedule and computes makespan ---\n",
    "def decode_schedule(chromosome):\n",
    "    machine_avail = {}  # machine_id -> time\n",
    "    part_next_op = {p+1: 1 for p in range(len(Qp))}\n",
    "    op_start = {}       # (p, o) -> start time\n",
    "    op_finish = {}      # (p, o) -> finish time\n",
    "\n",
    "    part_finish = {}    # part -> finish time\n",
    "\n",
    "    for (p, o) in chromosome:\n",
    "        if o != part_next_op[p]:\n",
    "            continue  # skip if out-of-order (shouldn’t happen)\n",
    "        part_next_op[p] += 1\n",
    "\n",
    "        m = machine[p-1][o-1]\n",
    "        pt = procTime[p-1][o-1]\n",
    "        if m == 0:  # No operation\n",
    "            op_start[(p, o)] = 0.0\n",
    "            op_finish[(p, o)] = 0.0\n",
    "            continue\n",
    "\n",
    "        # Precedence constraint\n",
    "        prev_finish = op_finish.get((p, o-1), 0.0)\n",
    "\n",
    "        # Machine constraint\n",
    "        avail = machine_avail.get(m, 0.0)\n",
    "\n",
    "        start = max(prev_finish, avail)\n",
    "        finish = start + pt\n",
    "\n",
    "        op_start[(p, o)] = start\n",
    "        op_finish[(p, o)] = finish\n",
    "\n",
    "        machine_avail[m] = finish\n",
    "\n",
    "    # Compute part finish time\n",
    "    for p in range(1, n_parts + 1):\n",
    "        last_op = Qp[p-1]\n",
    "        part_finish[p] = op_finish.get((p, last_op), 0.0)\n",
    "\n",
    "    # Assembly: start after all required parts are ready\n",
    "    asm_start = max(part_finish[p+1] for p in range(n_parts) if dependsOn[0][p] == 1)\n",
    "    asm_finish = asm_start + asmTime[0]\n",
    "\n",
    "    # Inventory waiting time\n",
    "    inventory_time = sum(asm_start - part_finish[p+1] for p in range(n_parts) if dependsOn[0][p] == 1)\n",
    "\n",
    "    makespan = asm_finish\n",
    "    return makespan, inventory_time, asm_start\n",
    "\n",
    "# --- Genetic Algorithm Components ---\n",
    "\n",
    "def fitness(chrom):\n",
    "    makespan, _, _ = decode_schedule(chrom)\n",
    "    return makespan  # Lower is better\n",
    "\n",
    "def tournament_selection(pop, k=3):\n",
    "    selected = random.sample(pop, k)\n",
    "    return min(selected, key=fitness)\n",
    "\n",
    "def crossover(parent1, parent2):\n",
    "    size = len(parent1)\n",
    "    cut1, cut2 = sorted(random.sample(range(size), 2))\n",
    "    \n",
    "    middle = parent1[cut1:cut2]\n",
    "    rest = [op for op in parent2 if op not in middle]\n",
    "\n",
    "    child = rest[:cut1] + middle + rest[cut1:]\n",
    "    return child\n",
    "\n",
    "def mutate(chrom, mutation_rate=0.2):\n",
    "    chrom = chrom[:]\n",
    "    for _ in range(2):\n",
    "        if random.random() < mutation_rate:\n",
    "            i, j = sorted(random.sample(range(len(chrom)), 2))\n",
    "            # Only swap if they are from different parts or non-conflicting\n",
    "            if chrom[i][0] == chrom[j][0] and chrom[i][1] > chrom[j][1]:\n",
    "                continue\n",
    "            chrom[i], chrom[j] = chrom[j], chrom[i]\n",
    "    return chrom\n",
    "\n",
    "# --- GA Loop ---\n",
    "\n",
    "def genetic_algorithm(Qp, pop_size=30, generations=100):\n",
    "    population = generate_initial_population(pop_size, Qp)\n",
    "    best = min(population, key=fitness)\n",
    "\n",
    "    for gen in range(generations):\n",
    "        new_pop = []\n",
    "        while len(new_pop) < pop_size:\n",
    "            p1 = tournament_selection(population)\n",
    "            p2 = tournament_selection(population)\n",
    "            child = crossover(p1, p2)\n",
    "            child = mutate(child)\n",
    "            new_pop.append(child)\n",
    "        population = new_pop\n",
    "        current_best = min(population, key=fitness)\n",
    "        if fitness(current_best) < fitness(best):\n",
    "            best = current_best\n",
    "        if gen % 10 == 0:\n",
    "            print(f\"Generation {gen}: Best makespan = {fitness(best):.2f}\")\n",
    "\n",
    "    return best, decode_schedule(best)\n",
    "\n",
    "# --- Run the GA ---\n",
    "\n",
    "if __name__ == \"__main__\":\n",
    "    best_sol, (ms, inv, sa) = genetic_algorithm(Qp, pop_size=50, generations=100)\n",
    "    print(\"\\nBest solution:\")\n",
    "    print(best_sol)\n",
    "    print(f\"Makespan: {ms:.2f}, Inventory Time: {inv:.2f}, Assembly Start: {sa:.2f}\")\n"
   ]
  },
  {
   "cell_type": "markdown",
   "id": "9db7bb39",
   "metadata": {},
   "source": [
    "### Variable"
   ]
  },
  {
   "cell_type": "markdown",
   "id": "13c91e08",
   "metadata": {},
   "source": [
    "##### Time Variable JSSP"
   ]
  },
  {
   "cell_type": "code",
   "execution_count": 73,
   "id": "b65fd009",
   "metadata": {},
   "outputs": [],
   "source": [
    "# time variable\n",
    "starting_time_of_operation = np.zeros((n, MaxOps, m))\n",
    "completion_time_of_operation = np.zeros((n, MaxOps, m))\n",
    "completion_time_of_processing = np.zeros((n, MaxOps, m))"
   ]
  },
  {
   "cell_type": "markdown",
   "id": "a2f51856",
   "metadata": {},
   "source": [
    "#### Assembly Variable "
   ]
  },
  {
   "cell_type": "code",
   "execution_count": 74,
   "id": "4c797569",
   "metadata": {},
   "outputs": [],
   "source": [
    "# assembly variable\n",
    "# part_in_position = np.zeros()\n",
    "starting_time_of_part = np.zeros((n, m))\n",
    "completion_time_of_part =   np.zeros((n, m))\n",
    "inventory_time_of_part = np.zeros((n, m))"
   ]
  },
  {
   "cell_type": "markdown",
   "id": "05e26a0a",
   "metadata": {},
   "source": [
    "## SOLUTION PRESENTATION\n"
   ]
  },
  {
   "cell_type": "markdown",
   "id": "4fe359e3",
   "metadata": {},
   "source": [
    "### Machine INIT\n"
   ]
  },
  {
   "cell_type": "code",
   "execution_count": 75,
   "id": "eeaa3153",
   "metadata": {},
   "outputs": [],
   "source": [
    "machine_init = np.random.permutation(np.arange(1, ((MaxOps*m)+1)))"
   ]
  },
  {
   "cell_type": "markdown",
   "id": "9e6edc28",
   "metadata": {},
   "source": [
    "### Part INIT\n"
   ]
  },
  {
   "cell_type": "code",
   "execution_count": 76,
   "id": "6d24a9cc",
   "metadata": {},
   "outputs": [],
   "source": [
    "part_init = np.random.permutation(np.arange(1, n+1))"
   ]
  },
  {
   "cell_type": "markdown",
   "id": "58a96df9",
   "metadata": {},
   "source": [
    "### Assembly INIT\n"
   ]
  },
  {
   "cell_type": "code",
   "execution_count": 77,
   "id": "28f3853d",
   "metadata": {},
   "outputs": [],
   "source": [
    "assembly_init = np.random.permutation(np.arange(1, m+1))"
   ]
  },
  {
   "cell_type": "markdown",
   "id": "1c5ffc2f",
   "metadata": {},
   "source": [
    "### Full Array "
   ]
  },
  {
   "cell_type": "code",
   "execution_count": 78,
   "id": "11022f98",
   "metadata": {},
   "outputs": [],
   "source": [
    "init = np.concatenate((machine_init, part_init, assembly_init), axis=0)"
   ]
  },
  {
   "cell_type": "markdown",
   "id": "6c5ea3f7",
   "metadata": {},
   "source": [
    "### Create pop"
   ]
  },
  {
   "cell_type": "code",
   "execution_count": 79,
   "id": "635d09f7",
   "metadata": {},
   "outputs": [],
   "source": [
    "pop = []\n",
    "\n",
    "for i in range(1, n_population + 1):\n",
    "    machine_init = np.random.permutation(np.arange(1, (MaxOps * m) + 1))\n",
    "    part_init = np.random.permutation(np.arange(1, n + 1))\n",
    "    assembly_init = np.random.permutation(np.arange(1, n + 1))\n",
    "    init = np.concatenate((machine_init, part_init, assembly_init), axis=0)\n",
    "    \n",
    "    pop.append(init)\n"
   ]
  },
  {
   "cell_type": "code",
   "execution_count": 80,
   "id": "2ab45034",
   "metadata": {},
   "outputs": [
    {
     "data": {
      "text/plain": [
       "[array([9, 6, 1, 2, 5, 7, 4, 8, 3, 3, 2, 1, 4, 4, 3, 1, 2]),\n",
       " array([2, 6, 3, 5, 1, 9, 4, 7, 8, 2, 4, 1, 3, 4, 1, 3, 2]),\n",
       " array([6, 8, 1, 5, 2, 3, 7, 9, 4, 1, 4, 2, 3, 2, 4, 1, 3]),\n",
       " array([4, 8, 2, 9, 7, 3, 5, 6, 1, 2, 3, 1, 4, 2, 4, 3, 1]),\n",
       " array([5, 6, 1, 2, 8, 7, 9, 4, 3, 4, 2, 3, 1, 3, 2, 4, 1]),\n",
       " array([5, 2, 9, 7, 6, 4, 3, 1, 8, 2, 1, 4, 3, 1, 3, 4, 2]),\n",
       " array([8, 4, 5, 9, 2, 7, 6, 3, 1, 3, 2, 4, 1, 1, 2, 3, 4]),\n",
       " array([6, 9, 2, 7, 1, 3, 4, 5, 8, 1, 3, 2, 4, 3, 4, 1, 2]),\n",
       " array([2, 3, 5, 6, 4, 7, 1, 8, 9, 4, 2, 1, 3, 1, 2, 3, 4]),\n",
       " array([2, 6, 3, 8, 9, 4, 5, 1, 7, 1, 3, 4, 2, 3, 2, 1, 4])]"
      ]
     },
     "execution_count": 80,
     "metadata": {},
     "output_type": "execute_result"
    }
   ],
   "source": [
    "pop"
   ]
  },
  {
   "cell_type": "markdown",
   "id": "21eb7d0c",
   "metadata": {},
   "source": [
    "### Decode to calcuation"
   ]
  },
  {
   "cell_type": "code",
   "execution_count": 84,
   "id": "0925a84e",
   "metadata": {},
   "outputs": [
    {
     "name": "stdout",
     "output_type": "stream",
     "text": [
      "[[2 6 3]\n",
      " [8 9 4]\n",
      " [5 1 7]]\n",
      "[1 3 4 2]\n",
      "[3 2 1 4]\n"
     ]
    }
   ],
   "source": [
    "def decode_schedule(individual):\n",
    "    machine_schedule = individual[:MaxOps * m].reshape((m, MaxOps))\n",
    "    part_schedule = individual[MaxOps * m:MaxOps * m + n]\n",
    "    assembly_schedule = individual[MaxOps * m + n:]\n",
    "    \n",
    "    return machine_schedule, part_schedule, assembly_schedule\n",
    "for individual in pop:\n",
    "    machine_schedule, part_schedule, assembly_schedule = decode_schedule(individual)\n",
    "    \n",
    "    # print(\"Machine Schedule:\\n\", machine_schedule)\n",
    "    # print(\"Part Schedule:\\n\", part_schedule)\n",
    "    # print(\"Assembly Schedule:\\n\", assembly_schedule)\n",
    "print(machine_schedule)\n",
    "print(part_schedule)\n",
    "print(assembly_schedule)"
   ]
  },
  {
   "cell_type": "markdown",
   "id": "e3a3a81d",
   "metadata": {},
   "source": [
    "### Fitness function"
   ]
  },
  {
   "cell_type": "code",
   "execution_count": 54,
   "id": "5e89deeb",
   "metadata": {},
   "outputs": [],
   "source": [
    "def decode_schedule(individual, PT, Q, M):\n",
    "    n = len(Q)\n",
    "    MaxOps = max(Q)\n",
    "    \n",
    "    # Start and end times of operations (mocked for now)\n",
    "    Sp = np.random.randint(0, 20, size=(n, MaxOps))  # Start times\n",
    "    Ep = Sp + np.random.randint(1, 10, size=(n, MaxOps))  # End times\n",
    "\n",
    "    # Assembly start and end times\n",
    "    Sa = np.max(Ep, axis=1) + np.random.randint(1, 5, size=n)\n",
    "    Ea = Sa + np.random.randint(5, 10, size=n)\n",
    "\n",
    "    return Sp, Ep, Sa, Ea\n",
    "\n",
    "def fitness_function(individual, PT, Q, Ta, nd, td, no, to, nt, tt, M=1000):\n",
    "    n = len(Q)       # number of parts\n",
    "    MaxOps = max(Q)\n",
    "    m = PT.shape[2]  # number of machines\n",
    "    \n",
    "    # Decode individual into scheduling\n",
    "    # You need to write: decode_schedule(individual) → gives Sp, Ep, Sa, Ea, etc.\n",
    "    Sp, Ep, Sa, Ea = decode_schedule(individual, PT, Q, M)\n",
    "    \n",
    "    E_part = np.max(Ep, axis=1)  # shape (n,)\n",
    "    inventory_time = Sa - E_part\n",
    "    total_inventory_time = np.sum(inventory_time)\n",
    "    \n",
    "    penalty_time = nd * td + no * to + nt * tt\n",
    "    total_penalty_time = np.sum(penalty_time)\n",
    "    \n",
    "    makespan = np.max(Ea)\n",
    "    \n",
    "    alpha = 1.0  # weight for inventory\n",
    "    beta = 1.0   # weight for penalties\n",
    "    \n",
    "    fitness = makespan + alpha * total_inventory_time + beta * total_penalty_time\n",
    "    return fitness\n"
   ]
  },
  {
   "cell_type": "code",
   "execution_count": 83,
   "id": "b24bdb99",
   "metadata": {},
   "outputs": [
    {
     "data": {
      "text/plain": [
       "array([[[1, 2, 8],\n",
       "        [4, 8, 7],\n",
       "        [6, 5, 6]],\n",
       "\n",
       "       [[1, 3, 5],\n",
       "        [7, 1, 2],\n",
       "        [3, 7, 4]],\n",
       "\n",
       "       [[5, 3, 8],\n",
       "        [3, 5, 7],\n",
       "        [3, 3, 2]],\n",
       "\n",
       "       [[3, 4, 2],\n",
       "        [6, 7, 2],\n",
       "        [7, 8, 4]]])"
      ]
     },
     "execution_count": 83,
     "metadata": {},
     "output_type": "execute_result"
    }
   ],
   "source": [
    "Tp"
   ]
  },
  {
   "cell_type": "code",
   "execution_count": 55,
   "id": "e94002dd",
   "metadata": {},
   "outputs": [
    {
     "name": "stdout",
     "output_type": "stream",
     "text": [
      "Fitness value: 56.0\n"
     ]
    }
   ],
   "source": [
    "fitness = fitness_function(individual, PT, Q, Ta, nd, td, no, to, nt, tt)\n",
    "print(f\"Fitness value: {fitness}\")\n"
   ]
  },
  {
   "cell_type": "code",
   "execution_count": null,
   "id": "9e8cc6a0",
   "metadata": {},
   "outputs": [],
   "source": []
  }
 ],
 "metadata": {
  "kernelspec": {
   "display_name": ".venv",
   "language": "python",
   "name": "python3"
  },
  "language_info": {
   "codemirror_mode": {
    "name": "ipython",
    "version": 3
   },
   "file_extension": ".py",
   "mimetype": "text/x-python",
   "name": "python",
   "nbconvert_exporter": "python",
   "pygments_lexer": "ipython3",
   "version": "3.12.3"
  }
 },
 "nbformat": 4,
 "nbformat_minor": 5
}
